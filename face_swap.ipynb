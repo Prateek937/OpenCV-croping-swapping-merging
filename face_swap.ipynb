{
 "cells": [
  {
   "cell_type": "code",
   "execution_count": 143,
   "metadata": {},
   "outputs": [],
   "source": [
    "# Import modules\n",
    "import cv2 "
   ]
  },
  {
   "cell_type": "code",
   "execution_count": 144,
   "metadata": {},
   "outputs": [],
   "source": [
    "# Function to display images.\n",
    "def show(p):\n",
    "    cv2.imshow(\"phtoo\", p)\n",
    "    cv2.waitKey()\n",
    "    cv2.destroyAllWindows()\n"
   ]
  },
  {
   "cell_type": "code",
   "execution_count": 145,
   "metadata": {},
   "outputs": [],
   "source": [
    "# reading and creating a rectangle for determination of the right position of face.\n",
    "photo1 = cv2.imread(\"elonMusk.jpg\")\n",
    "show(photo1)\n",
    "#rec1 = cv2.rectangle(photo1, (635,20),(895, 380), [255,123,154], thickness=5)\n",
    "\n",
    "photo2 = cv2.imread(\"/home/prateek/a/SummerTasks/image-processing/IronMan.jpg\")\n",
    "show(photo2)\n",
    "#rec2 = cv2.rectangle(photo2, (65,80),(325, 440), [255,123,154], thickness=5)"
   ]
  },
  {
   "cell_type": "code",
   "execution_count": 146,
   "metadata": {},
   "outputs": [],
   "source": [
    "# Cropping the faces.\n",
    "photo_cropped_1 = photo1[20:380, 635:895]\n",
    "show(photo_cropped_1)\n",
    "photo_cropped_2 = photo2[80:440, 65:325]\n",
    "show(photo_cropped_2)"
   ]
  },
  {
   "cell_type": "code",
   "execution_count": 147,
   "metadata": {},
   "outputs": [],
   "source": [
    "# Swapping the faces\n",
    "temp = photo_cropped_1 + photo_cropped_2\n",
    "photo1[20:380, 635:895] = photo_cropped_2\n",
    "show(photo1)\n",
    "photo2[80:440, 65:325] = temp-photo_cropped_2\n",
    "show(photo2)"
   ]
  },
  {
   "cell_type": "code",
   "execution_count": null,
   "metadata": {},
   "outputs": [],
   "source": []
  }
 ],
 "metadata": {
  "kernelspec": {
   "display_name": "Python 3.9.6 64-bit ('base': conda)",
   "name": "python396jvsc74a57bd0767d51c1340bd893661ea55ea3124f6de3c7a262a8b4abca0554b478b1e2ff90"
  },
  "language_info": {
   "codemirror_mode": {
    "name": "ipython",
    "version": 3
   },
   "file_extension": ".py",
   "mimetype": "text/x-python",
   "name": "python",
   "nbconvert_exporter": "python",
   "pygments_lexer": "ipython3",
   "version": "3.9.6"
  },
  "metadata": {
   "interpreter": {
    "hash": "767d51c1340bd893661ea55ea3124f6de3c7a262a8b4abca0554b478b1e2ff90"
   }
  },
  "orig_nbformat": 2
 },
 "nbformat": 4,
 "nbformat_minor": 2
}